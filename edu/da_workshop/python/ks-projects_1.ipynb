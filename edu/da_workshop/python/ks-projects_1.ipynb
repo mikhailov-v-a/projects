{
 "cells": [
  {
   "cell_type": "code",
   "execution_count": 55,
   "id": "f7017ad2-8f1e-4492-a83f-8f73493d6ec1",
   "metadata": {},
   "outputs": [],
   "source": [
    "#Подключение библиотек\n",
    "import pandas as pd\n",
    "import numpy as np"
   ]
  },
  {
   "cell_type": "code",
   "execution_count": 56,
   "id": "f55e59f0-166c-444d-ba95-5cc2ae64b3a5",
   "metadata": {},
   "outputs": [
    {
     "data": {
      "text/html": [
       "<div>\n",
       "<style scoped>\n",
       "    .dataframe tbody tr th:only-of-type {\n",
       "        vertical-align: middle;\n",
       "    }\n",
       "\n",
       "    .dataframe tbody tr th {\n",
       "        vertical-align: top;\n",
       "    }\n",
       "\n",
       "    .dataframe thead th {\n",
       "        text-align: right;\n",
       "    }\n",
       "</style>\n",
       "<table border=\"1\" class=\"dataframe\">\n",
       "  <thead>\n",
       "    <tr style=\"text-align: right;\">\n",
       "      <th></th>\n",
       "      <th>ID</th>\n",
       "      <th>Number of Records</th>\n",
       "      <th>Backers</th>\n",
       "      <th>Country</th>\n",
       "      <th>Currency</th>\n",
       "      <th>Goal</th>\n",
       "      <th>Launched</th>\n",
       "      <th>Main Category</th>\n",
       "      <th>Pledged</th>\n",
       "      <th>State</th>\n",
       "      <th>Usd Pledged</th>\n",
       "    </tr>\n",
       "  </thead>\n",
       "  <tbody>\n",
       "    <tr>\n",
       "      <th>0</th>\n",
       "      <td>593661882</td>\n",
       "      <td>1</td>\n",
       "      <td>69</td>\n",
       "      <td>US</td>\n",
       "      <td>USD</td>\n",
       "      <td>10000.0</td>\n",
       "      <td>10/1/15 8:32:36 PM</td>\n",
       "      <td>Film &amp; Video</td>\n",
       "      <td>10265.00</td>\n",
       "      <td>successful</td>\n",
       "      <td>10265.00</td>\n",
       "    </tr>\n",
       "    <tr>\n",
       "      <th>1</th>\n",
       "      <td>473621404</td>\n",
       "      <td>1</td>\n",
       "      <td>70</td>\n",
       "      <td>US</td>\n",
       "      <td>USD</td>\n",
       "      <td>1000.0</td>\n",
       "      <td>15/2/13 5:40:45 AM</td>\n",
       "      <td>Film &amp; Video</td>\n",
       "      <td>3095.57</td>\n",
       "      <td>successful</td>\n",
       "      <td>3095.57</td>\n",
       "    </tr>\n",
       "    <tr>\n",
       "      <th>2</th>\n",
       "      <td>1966367321</td>\n",
       "      <td>1</td>\n",
       "      <td>71</td>\n",
       "      <td>US</td>\n",
       "      <td>USD</td>\n",
       "      <td>12500.0</td>\n",
       "      <td>9/5/13 6:24:51 AM</td>\n",
       "      <td>Film &amp; Video</td>\n",
       "      <td>13261.00</td>\n",
       "      <td>successful</td>\n",
       "      <td>13261.00</td>\n",
       "    </tr>\n",
       "    <tr>\n",
       "      <th>3</th>\n",
       "      <td>1897294229</td>\n",
       "      <td>1</td>\n",
       "      <td>71</td>\n",
       "      <td>US</td>\n",
       "      <td>USD</td>\n",
       "      <td>15000.0</td>\n",
       "      <td>27/6/11 10:47:44 PM</td>\n",
       "      <td>Film &amp; Video</td>\n",
       "      <td>15533.00</td>\n",
       "      <td>successful</td>\n",
       "      <td>15533.00</td>\n",
       "    </tr>\n",
       "    <tr>\n",
       "      <th>4</th>\n",
       "      <td>1822609271</td>\n",
       "      <td>1</td>\n",
       "      <td>74</td>\n",
       "      <td>US</td>\n",
       "      <td>USD</td>\n",
       "      <td>3000.0</td>\n",
       "      <td>12/2/11 5:56:32 AM</td>\n",
       "      <td>Film &amp; Video</td>\n",
       "      <td>3414.00</td>\n",
       "      <td>successful</td>\n",
       "      <td>3414.00</td>\n",
       "    </tr>\n",
       "  </tbody>\n",
       "</table>\n",
       "</div>"
      ],
      "text/plain": [
       "           ID  Number of Records  Backers Country Currency     Goal  \\\n",
       "0   593661882                  1       69      US      USD  10000.0   \n",
       "1   473621404                  1       70      US      USD   1000.0   \n",
       "2  1966367321                  1       71      US      USD  12500.0   \n",
       "3  1897294229                  1       71      US      USD  15000.0   \n",
       "4  1822609271                  1       74      US      USD   3000.0   \n",
       "\n",
       "              Launched Main Category   Pledged       State  Usd Pledged  \n",
       "0   10/1/15 8:32:36 PM  Film & Video  10265.00  successful     10265.00  \n",
       "1   15/2/13 5:40:45 AM  Film & Video   3095.57  successful      3095.57  \n",
       "2    9/5/13 6:24:51 AM  Film & Video  13261.00  successful     13261.00  \n",
       "3  27/6/11 10:47:44 PM  Film & Video  15533.00  successful     15533.00  \n",
       "4   12/2/11 5:56:32 AM  Film & Video   3414.00  successful      3414.00  "
      ]
     },
     "execution_count": 56,
     "metadata": {},
     "output_type": "execute_result"
    }
   ],
   "source": [
    "#Загрузка данных\n",
    "df = pd.read_csv(\"ks-projects.csv\", sep=',')\n",
    "df.head()"
   ]
  },
  {
   "cell_type": "markdown",
   "id": "99f26019-ccd0-4748-b969-b3120d2c3f75",
   "metadata": {},
   "source": [
    "### Сколько успешных проектов было зарегистрировано в категории \"Театр\"?"
   ]
  },
  {
   "cell_type": "code",
   "execution_count": 57,
   "id": "4b6afa49-3b4a-4eb6-bfb5-47750fd691a6",
   "metadata": {},
   "outputs": [
    {
     "data": {
      "text/html": [
       "<div>\n",
       "<style scoped>\n",
       "    .dataframe tbody tr th:only-of-type {\n",
       "        vertical-align: middle;\n",
       "    }\n",
       "\n",
       "    .dataframe tbody tr th {\n",
       "        vertical-align: top;\n",
       "    }\n",
       "\n",
       "    .dataframe thead th {\n",
       "        text-align: right;\n",
       "    }\n",
       "</style>\n",
       "<table border=\"1\" class=\"dataframe\">\n",
       "  <thead>\n",
       "    <tr style=\"text-align: right;\">\n",
       "      <th></th>\n",
       "      <th>State</th>\n",
       "      <th>Number of Records</th>\n",
       "    </tr>\n",
       "  </thead>\n",
       "  <tbody>\n",
       "    <tr>\n",
       "      <th>0</th>\n",
       "      <td>canceled</td>\n",
       "      <td>547</td>\n",
       "    </tr>\n",
       "    <tr>\n",
       "      <th>1</th>\n",
       "      <td>failed</td>\n",
       "      <td>3337</td>\n",
       "    </tr>\n",
       "    <tr>\n",
       "      <th>2</th>\n",
       "      <td>live</td>\n",
       "      <td>66</td>\n",
       "    </tr>\n",
       "    <tr>\n",
       "      <th>3</th>\n",
       "      <td>successful</td>\n",
       "      <td>5990</td>\n",
       "    </tr>\n",
       "    <tr>\n",
       "      <th>4</th>\n",
       "      <td>suspended</td>\n",
       "      <td>21</td>\n",
       "    </tr>\n",
       "  </tbody>\n",
       "</table>\n",
       "</div>"
      ],
      "text/plain": [
       "        State  Number of Records\n",
       "0    canceled                547\n",
       "1      failed               3337\n",
       "2        live                 66\n",
       "3  successful               5990\n",
       "4   suspended                 21"
      ]
     },
     "execution_count": 57,
     "metadata": {},
     "output_type": "execute_result"
    }
   ],
   "source": [
    "theater = df[df['Main Category'] == 'Theater']\n",
    "theater.groupby('State', as_index=False).aggregate({'Number of Records':'sum'})"
   ]
  },
  {
   "cell_type": "markdown",
   "id": "90180f36-88d8-414a-8c3d-8d82363f43ec",
   "metadata": {},
   "source": [
    "1. Сохранить в переменную theater данные из df по категории\n",
    "2. Группировать по статусу, агрегировать по сумме количества записей\n",
    "\n",
    "**Ответ: 5990**"
   ]
  },
  {
   "cell_type": "markdown",
   "id": "dbc1eec0-dc83-4343-8137-8f2b16ac7d87",
   "metadata": {},
   "source": [
    "### Когда в категории \"Игры\" значение собранных фондов было максимальным?"
   ]
  },
  {
   "cell_type": "code",
   "execution_count": 58,
   "id": "6b322f23-b3a3-486b-ab16-6f06d164c79c",
   "metadata": {},
   "outputs": [
    {
     "data": {
      "text/plain": [
       "Launched    9/9/16 9:20:48 PM\n",
       "Pledged            8782571.99\n",
       "dtype: object"
      ]
     },
     "execution_count": 58,
     "metadata": {},
     "output_type": "execute_result"
    }
   ],
   "source": [
    "game = df[df['Main Category'] == 'Games']\n",
    "game.groupby('Launched', as_index=False).aggregate({'Pledged':'max'}).max()"
   ]
  },
  {
   "cell_type": "markdown",
   "id": "8a71d214-c4ea-4c07-ab72-d956c2d1b02e",
   "metadata": {},
   "source": [
    "1. Сохранить в переменную game данные по категории\n",
    "2. Группировать по дате, агрегировать по собранной сумме, вывести максимум\n",
    "\n",
    "**Ответ: 09.09.2016**"
   ]
  },
  {
   "cell_type": "markdown",
   "id": "bd1f646c-446b-4a21-89aa-ad1d4a5a8f01",
   "metadata": {},
   "source": [
    "### Сколько проектов было со статусом failed в категории \"Дизайн\" и сколько они собрали фондов?"
   ]
  },
  {
   "cell_type": "code",
   "execution_count": 59,
   "id": "862e57de-9d7f-41ee-b043-3a5678701295",
   "metadata": {},
   "outputs": [
    {
     "data": {
      "text/plain": [
       "36349969.53"
      ]
     },
     "execution_count": 59,
     "metadata": {},
     "output_type": "execute_result"
    }
   ],
   "source": [
    "design = df[(df['Main Category']=='Design') \n",
    "            & (df['State']=='failed')]\n",
    "round(sum(design['Pledged']), 2)"
   ]
  },
  {
   "cell_type": "markdown",
   "id": "816c9eb9-5b5a-42de-b17b-7fbfc40142dd",
   "metadata": {},
   "source": [
    "1. Сохранитьв переменную данные по категории\n",
    "2. Посчитать сумму сборов, округлить до 2 знаков\n",
    "\n",
    "**Ответ: 36349969.53**"
   ]
  },
  {
   "cell_type": "markdown",
   "id": "b584c7ea-5df0-4b5a-8faf-bcdfdc8c1a60",
   "metadata": {},
   "source": [
    "### Сколько из зарегистрированных проектов в Великобритании в категории \"Музыка\" и \"Танцы\" было провальных (failed), и сколько фондов для них собрали?"
   ]
  },
  {
   "cell_type": "code",
   "execution_count": 60,
   "id": "72b405dd-4904-4d65-83b0-9d2504fc44e2",
   "metadata": {},
   "outputs": [
    {
     "data": {
      "text/plain": [
       "172495496.22"
      ]
     },
     "execution_count": 60,
     "metadata": {},
     "output_type": "execute_result"
    }
   ],
   "source": [
    "music_dance = df[(df['Main Category'] == 'Music')\n",
    "                 | (df['Main Category'] == 'Dance')\n",
    "                 & (df['State'] == 'failed')\n",
    "                 & (df['Country'] == 'GB')]\n",
    "round(sum(music_dance['Pledged']), 2)"
   ]
  },
  {
   "cell_type": "markdown",
   "id": "1c6b3dca-779f-4945-aa1a-61abe3f8594d",
   "metadata": {},
   "source": [
    "1. Сохранить в переменную данные по критериям\n",
    "2. Посчитать сумму сборов, округлить до 2 знаков\n",
    "\n",
    "**Ответ: 172495496.22**"
   ]
  },
  {
   "cell_type": "markdown",
   "id": "e08fb67c-cdf7-4a03-84df-2affeed04fc5",
   "metadata": {},
   "source": [
    "### Найдите проекты, зарегистрированные в США, в категории \"Комиксы\", когда запрос на финансы оказался меньше, чем собранных фондов, но проект не состоялся (canceled, failed, suspended)?"
   ]
  },
  {
   "cell_type": "code",
   "execution_count": 68,
   "id": "9322d0d4-fc07-4e13-bc50-996163e8b68d",
   "metadata": {},
   "outputs": [
    {
     "data": {
      "text/plain": [
       "11512      312319477\n",
       "11641     1127713194\n",
       "11649     1762051011\n",
       "11743     1950304599\n",
       "178564     833333838\n",
       "Name: ID, dtype: int64"
      ]
     },
     "execution_count": 68,
     "metadata": {},
     "output_type": "execute_result"
    }
   ],
   "source": [
    "comics = df[(df['Country'] == 'US') \n",
    "           & (df['Main Category'] == 'Comics')\n",
    "           & (df['Goal'] < df['Pledged'])\n",
    "           & ((df['State'] == 'canceled') | (df['State'] == 'failed') | (df['State'] == 'suspended'))]\n",
    "comics['ID']"
   ]
  },
  {
   "cell_type": "markdown",
   "id": "e59ba0a0-5419-4fe0-a7d2-35b9620222ba",
   "metadata": {},
   "source": [
    "1. Сохранить в переменную данные по критериям\n",
    "2. Вывести ID подходящих проектов\n",
    "\n",
    "**Ответ: 5 проектов**"
   ]
  }
 ],
 "metadata": {
  "kernelspec": {
   "display_name": "Python 3 (ipykernel)",
   "language": "python",
   "name": "python3"
  },
  "language_info": {
   "codemirror_mode": {
    "name": "ipython",
    "version": 3
   },
   "file_extension": ".py",
   "mimetype": "text/x-python",
   "name": "python",
   "nbconvert_exporter": "python",
   "pygments_lexer": "ipython3",
   "version": "3.9.7"
  }
 },
 "nbformat": 4,
 "nbformat_minor": 5
}
